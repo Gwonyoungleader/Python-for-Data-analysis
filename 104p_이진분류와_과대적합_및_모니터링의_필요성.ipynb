{
  "nbformat": 4,
  "nbformat_minor": 0,
  "metadata": {
    "colab": {
      "provenance": [],
      "authorship_tag": "ABX9TyPg2D9Ua5n5NG4RjYhAWyS7",
      "include_colab_link": true
    },
    "kernelspec": {
      "name": "python3",
      "display_name": "Python 3"
    },
    "language_info": {
      "name": "python"
    }
  },
  "cells": [
    {
      "cell_type": "markdown",
      "metadata": {
        "id": "view-in-github",
        "colab_type": "text"
      },
      "source": [
        "<a href=\"https://colab.research.google.com/github/Gwonyoungleader/Python-for-Data-analysis/blob/main/104p_%EC%9D%B4%EC%A7%84%EB%B6%84%EB%A5%98%EC%99%80_%EA%B3%BC%EB%8C%80%EC%A0%81%ED%95%A9_%EB%B0%8F_%EB%AA%A8%EB%8B%88%ED%84%B0%EB%A7%81%EC%9D%98_%ED%95%84%EC%9A%94%EC%84%B1.ipynb\" target=\"_parent\"><img src=\"https://colab.research.google.com/assets/colab-badge.svg\" alt=\"Open In Colab\"/></a>"
      ]
    },
    {
      "cell_type": "code",
      "execution_count": 1,
      "metadata": {
        "colab": {
          "base_uri": "https://localhost:8080/"
        },
        "id": "5WmwBQi3U93I",
        "outputId": "cd19fe53-c576-427a-9ce9-55c8ceb5784d"
      },
      "outputs": [
        {
          "output_type": "stream",
          "name": "stdout",
          "text": [
            "Downloading data from https://storage.googleapis.com/tensorflow/tf-keras-datasets/imdb.npz\n",
            "17465344/17464789 [==============================] - 0s 0us/step\n",
            "17473536/17464789 [==============================] - 0s 0us/step\n"
          ]
        }
      ],
      "source": [
        "from keras.datasets import imdb\n",
        "(train_data,train_labels),(test_data,test_labels) = imdb.load_data(num_words = 10000)\n",
        "\n"
      ]
    },
    {
      "cell_type": "code",
      "source": [
        "import numpy as np\n",
        "def vectorize_data(sequences,dimension=10000):\n",
        "    results = np.zeros((len(sequences),dimension))\n",
        "\n",
        "    for i,sequence in enumerate(sequences):\n",
        "        results[i,sequence] = 1.\n",
        "    return results\n"
      ],
      "metadata": {
        "id": "3h1e47jJVG6N"
      },
      "execution_count": 7,
      "outputs": []
    },
    {
      "cell_type": "code",
      "source": [
        "x_train = vectorize_data(train_data)\n",
        "x_test = vectorize_data(test_data)"
      ],
      "metadata": {
        "id": "dbqo61XnVX-0"
      },
      "execution_count": 8,
      "outputs": []
    },
    {
      "cell_type": "code",
      "source": [
        "from keras import layers\n",
        "from keras import models\n",
        "model = models.Sequential()\n",
        "model.add(layers.Dense(16, activation='relu', input_shape = (10000,)))\n",
        "model.add(layers.Dense(16, activation='relu'))\n",
        "model.add(layers.Dense(1, activation='sigmoid'))\n"
      ],
      "metadata": {
        "id": "m6QTH2FWVeRg"
      },
      "execution_count": 9,
      "outputs": []
    },
    {
      "cell_type": "code",
      "source": [
        "y_train = np.asarray(train_labels).astype('float32')\n",
        "y_test = np.asarray(test_labels).astype('float32')"
      ],
      "metadata": {
        "id": "61WRqN4SWOpt"
      },
      "execution_count": 14,
      "outputs": []
    },
    {
      "cell_type": "code",
      "source": [
        "x_val = x_train[:10000]\n",
        "partial_x = x_train[10000:]\n",
        "y_val = y_train[:10000]\n",
        "partial_y = y_train[10000:]"
      ],
      "metadata": {
        "id": "nTS7YG3BWcdR"
      },
      "execution_count": 15,
      "outputs": []
    },
    {
      "cell_type": "code",
      "source": [
        "model.compile(optimizer='rmsprop',\n",
        "              loss = 'binary_crossentropy',\n",
        "              metrics = ['accuracy'])"
      ],
      "metadata": {
        "id": "1lD1slEMXaza"
      },
      "execution_count": 18,
      "outputs": []
    },
    {
      "cell_type": "code",
      "source": [
        "history = model.fit(partial_x,partial_y,batch_size=512,epochs=20,validation_data = (x_val,y_val))"
      ],
      "metadata": {
        "colab": {
          "base_uri": "https://localhost:8080/"
        },
        "id": "7dH97Zp5XIqm",
        "outputId": "964f6eba-6b05-4c63-831c-a52503727261"
      },
      "execution_count": 19,
      "outputs": [
        {
          "output_type": "stream",
          "name": "stdout",
          "text": [
            "Epoch 1/20\n",
            "30/30 [==============================] - 1s 26ms/step - loss: 0.5421 - accuracy: 0.7797 - val_loss: 0.4147 - val_accuracy: 0.8713\n",
            "Epoch 2/20\n",
            "30/30 [==============================] - 1s 17ms/step - loss: 0.3339 - accuracy: 0.8995 - val_loss: 0.3200 - val_accuracy: 0.8865\n",
            "Epoch 3/20\n",
            "30/30 [==============================] - 1s 18ms/step - loss: 0.2468 - accuracy: 0.9218 - val_loss: 0.3011 - val_accuracy: 0.8812\n",
            "Epoch 4/20\n",
            "30/30 [==============================] - 1s 17ms/step - loss: 0.1925 - accuracy: 0.9397 - val_loss: 0.2728 - val_accuracy: 0.8910\n",
            "Epoch 5/20\n",
            "30/30 [==============================] - 1s 17ms/step - loss: 0.1579 - accuracy: 0.9487 - val_loss: 0.2752 - val_accuracy: 0.8894\n",
            "Epoch 6/20\n",
            "30/30 [==============================] - 0s 17ms/step - loss: 0.1304 - accuracy: 0.9593 - val_loss: 0.2826 - val_accuracy: 0.8882\n",
            "Epoch 7/20\n",
            "30/30 [==============================] - 1s 18ms/step - loss: 0.1063 - accuracy: 0.9689 - val_loss: 0.2973 - val_accuracy: 0.8873\n",
            "Epoch 8/20\n",
            "30/30 [==============================] - 1s 17ms/step - loss: 0.0894 - accuracy: 0.9746 - val_loss: 0.3139 - val_accuracy: 0.8839\n",
            "Epoch 9/20\n",
            "30/30 [==============================] - 1s 18ms/step - loss: 0.0718 - accuracy: 0.9813 - val_loss: 0.3470 - val_accuracy: 0.8755\n",
            "Epoch 10/20\n",
            "30/30 [==============================] - 1s 17ms/step - loss: 0.0601 - accuracy: 0.9846 - val_loss: 0.3629 - val_accuracy: 0.8807\n",
            "Epoch 11/20\n",
            "30/30 [==============================] - 1s 17ms/step - loss: 0.0467 - accuracy: 0.9892 - val_loss: 0.4151 - val_accuracy: 0.8725\n",
            "Epoch 12/20\n",
            "30/30 [==============================] - 1s 17ms/step - loss: 0.0382 - accuracy: 0.9915 - val_loss: 0.4108 - val_accuracy: 0.8760\n",
            "Epoch 13/20\n",
            "30/30 [==============================] - 1s 19ms/step - loss: 0.0296 - accuracy: 0.9953 - val_loss: 0.4449 - val_accuracy: 0.8759\n",
            "Epoch 14/20\n",
            "30/30 [==============================] - 1s 17ms/step - loss: 0.0238 - accuracy: 0.9960 - val_loss: 0.4746 - val_accuracy: 0.8698\n",
            "Epoch 15/20\n",
            "30/30 [==============================] - 1s 17ms/step - loss: 0.0171 - accuracy: 0.9981 - val_loss: 0.5074 - val_accuracy: 0.8703\n",
            "Epoch 16/20\n",
            "30/30 [==============================] - 1s 17ms/step - loss: 0.0158 - accuracy: 0.9979 - val_loss: 0.5460 - val_accuracy: 0.8718\n",
            "Epoch 17/20\n",
            "30/30 [==============================] - 1s 22ms/step - loss: 0.0096 - accuracy: 0.9994 - val_loss: 0.5677 - val_accuracy: 0.8689\n",
            "Epoch 18/20\n",
            "30/30 [==============================] - 1s 19ms/step - loss: 0.0091 - accuracy: 0.9993 - val_loss: 0.6062 - val_accuracy: 0.8671\n",
            "Epoch 19/20\n",
            "30/30 [==============================] - 1s 20ms/step - loss: 0.0052 - accuracy: 0.9998 - val_loss: 0.6412 - val_accuracy: 0.8667\n",
            "Epoch 20/20\n",
            "30/30 [==============================] - 1s 22ms/step - loss: 0.0056 - accuracy: 0.9992 - val_loss: 0.6806 - val_accuracy: 0.8659\n"
          ]
        }
      ]
    },
    {
      "cell_type": "code",
      "source": [
        "from keras import layers\n",
        "from keras import models\n",
        "model = models.Sequential()\n",
        "model.add(layers.Dense(16, activation='relu', input_shape = (10000,)))\n",
        "model.add(layers.Dense(16, activation='relu'))\n",
        "model.add(layers.Dense(1, activation='sigmoid'))\n",
        "\n",
        "model.compile(optimizer= 'rmsprop',\n",
        "              loss = 'binary_crossentropy',\n",
        "              metrics = ['accuracy'])\n",
        "model.fit(x_train,y_train,batch_size=512,epochs=4)\n",
        "results = model.evaluate(x_test,y_test)"
      ],
      "metadata": {
        "colab": {
          "base_uri": "https://localhost:8080/"
        },
        "id": "5yYrjLmtXVIZ",
        "outputId": "016dd96e-8e9f-4d9d-8ab9-2daeef9b64dc"
      },
      "execution_count": 20,
      "outputs": [
        {
          "output_type": "stream",
          "name": "stdout",
          "text": [
            "Epoch 1/4\n",
            "49/49 [==============================] - 1s 13ms/step - loss: 0.4383 - accuracy: 0.8285\n",
            "Epoch 2/4\n",
            "49/49 [==============================] - 1s 13ms/step - loss: 0.2562 - accuracy: 0.9102\n",
            "Epoch 3/4\n",
            "49/49 [==============================] - 1s 13ms/step - loss: 0.2020 - accuracy: 0.9296\n",
            "Epoch 4/4\n",
            "49/49 [==============================] - 1s 13ms/step - loss: 0.1677 - accuracy: 0.9406\n",
            "782/782 [==============================] - 1s 1ms/step - loss: 0.3071 - accuracy: 0.8773\n"
          ]
        }
      ]
    },
    {
      "cell_type": "code",
      "source": [
        "results"
      ],
      "metadata": {
        "colab": {
          "base_uri": "https://localhost:8080/"
        },
        "id": "uCKxFvLeYahQ",
        "outputId": "a39dc806-bcaa-41de-e867-680c7feb7e37"
      },
      "execution_count": 21,
      "outputs": [
        {
          "output_type": "execute_result",
          "data": {
            "text/plain": [
              "[0.30708757042884827, 0.8772799968719482]"
            ]
          },
          "metadata": {},
          "execution_count": 21
        }
      ]
    },
    {
      "cell_type": "code",
      "source": [
        "model.predict(x_test)"
      ],
      "metadata": {
        "colab": {
          "base_uri": "https://localhost:8080/"
        },
        "id": "lkggyuxnYfrZ",
        "outputId": "121d18e9-9bb4-4f44-c14f-d5c82957f148"
      },
      "execution_count": 24,
      "outputs": [
        {
          "output_type": "execute_result",
          "data": {
            "text/plain": [
              "array([[0.17673257],\n",
              "       [0.99980974],\n",
              "       [0.4157053 ],\n",
              "       ...,\n",
              "       [0.09172979],\n",
              "       [0.051819  ],\n",
              "       [0.35781658]], dtype=float32)"
            ]
          },
          "metadata": {},
          "execution_count": 24
        }
      ]
    },
    {
      "cell_type": "code",
      "source": [],
      "metadata": {
        "id": "3T4FNnNdY5kA"
      },
      "execution_count": null,
      "outputs": []
    }
  ]
}