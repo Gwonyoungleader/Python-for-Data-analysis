{
  "nbformat": 4,
  "nbformat_minor": 0,
  "metadata": {
    "colab": {
      "provenance": [],
      "authorship_tag": "ABX9TyOrgsyZdK8Fa/M7dGJSEdF0",
      "include_colab_link": true
    },
    "kernelspec": {
      "name": "python3",
      "display_name": "Python 3"
    },
    "language_info": {
      "name": "python"
    }
  },
  "cells": [
    {
      "cell_type": "markdown",
      "metadata": {
        "id": "view-in-github",
        "colab_type": "text"
      },
      "source": [
        "<a href=\"https://colab.research.google.com/github/Gwonyoungleader/Python-for-Data-analysis/blob/%EB%A8%B8%EC%8B%A0%EB%9F%AC%EB%8B%9D-%EB%8B%A8%EA%B3%84/9%EC%9B%94_24%EC%9D%BC_%EB%B6%96%EA%BD%83_%EB%B6%84%EB%A5%98.ipynb\" target=\"_parent\"><img src=\"https://colab.research.google.com/assets/colab-badge.svg\" alt=\"Open In Colab\"/></a>"
      ]
    },
    {
      "cell_type": "code",
      "execution_count": 157,
      "metadata": {
        "id": "vc1iluUWwYno"
      },
      "outputs": [],
      "source": [
        "import pandas as pd"
      ]
    },
    {
      "cell_type": "code",
      "source": [
        "data = pd.read_csv('/iris.csv')"
      ],
      "metadata": {
        "id": "ksATyrfcxT98"
      },
      "execution_count": 158,
      "outputs": []
    },
    {
      "cell_type": "code",
      "source": [
        "data = data.sample(frac=1)"
      ],
      "metadata": {
        "id": "gs8JneyP1Izs"
      },
      "execution_count": 159,
      "outputs": []
    },
    {
      "cell_type": "code",
      "source": [
        "train_data= data.drop(['variety'],axis=1)\n",
        "train_labels = data['variety']"
      ],
      "metadata": {
        "id": "r5P-sGhQ1J5L"
      },
      "execution_count": 160,
      "outputs": []
    },
    {
      "cell_type": "code",
      "source": [
        "import numpy as np"
      ],
      "metadata": {
        "id": "y5guaVvv31v2"
      },
      "execution_count": 161,
      "outputs": []
    },
    {
      "cell_type": "code",
      "source": [
        "train_labels = train_labels.to_numpy()"
      ],
      "metadata": {
        "id": "ORhDiqrv3z2Y"
      },
      "execution_count": 162,
      "outputs": []
    },
    {
      "cell_type": "code",
      "source": [
        "from keras.utils.np_utils import to_categorical"
      ],
      "metadata": {
        "id": "4EXWwheY35tL"
      },
      "execution_count": 163,
      "outputs": []
    },
    {
      "cell_type": "code",
      "source": [
        "def one_hot_vectorize(sequences,dimension=3):\n",
        "    results = np.zeros((len(sequences),dimension))\n",
        "    \n",
        "    for i in range(150):\n",
        "        \n",
        "        \n",
        "        if str(sequences[i]) == 'Virginica':\n",
        "            results[i,0] = 1.\n",
        "        elif str(sequences[i]) == 'versicolor':\n",
        "            results[i,1] = 1.\n",
        "        elif str(sequences[i]) =='Setosa':\n",
        "            results[i,2] = 1.\n",
        "    return results                \n"
      ],
      "metadata": {
        "id": "l3h8YYts48WP"
      },
      "execution_count": 164,
      "outputs": []
    },
    {
      "cell_type": "code",
      "source": [
        "train_labels = one_hot_vectorize(train_labels)"
      ],
      "metadata": {
        "id": "UNk-zSpm7GZa"
      },
      "execution_count": 165,
      "outputs": []
    },
    {
      "cell_type": "code",
      "source": [
        "from sklearn.preprocessing import MinMaxScaler\n",
        "\n",
        "minmax_scalar = MinMaxScaler()\n",
        "train_data = minmax_scalar.fit_transform(train_data)"
      ],
      "metadata": {
        "id": "CTFzKyS6AHm-"
      },
      "execution_count": 166,
      "outputs": []
    },
    {
      "cell_type": "code",
      "source": [
        "test_labels = train_labels[121:]\n",
        "test_data = train_data[121:]\n",
        "train_data = train_data[:121]\n",
        "train_labels = train_labels[:121]\n"
      ],
      "metadata": {
        "id": "R8QN-99BKrJH"
      },
      "execution_count": 167,
      "outputs": []
    },
    {
      "cell_type": "code",
      "source": [
        "from keras import models\n",
        "from keras import layers\n",
        "\n",
        "def build_model():\n",
        "    model = models.Sequential()\n",
        "    model.add(layers.Dense(16, activation='relu',\n",
        "                           input_shape = (train_data.shape[1],)))\n",
        "    model.add(layers.Dense(16,activation='relu'))\n",
        "\n",
        "    model.add(layers.Dense(3, activation = 'softmax'))\n",
        "    model.compile(optimizer='rmsprop',\n",
        "                  loss = 'categorical_crossentropy',\n",
        "                  metrics = ['accuracy'])\n",
        "    return model"
      ],
      "metadata": {
        "id": "DqC5ItOr-bRQ"
      },
      "execution_count": 168,
      "outputs": []
    },
    {
      "cell_type": "code",
      "source": [
        "k = 4 \n",
        "num_val_samples = len(train_data) // k \n",
        "num_epochs = 10\n",
        "all_scores = []\n",
        "all_scores2 = []\n",
        "for i in range(k):\n",
        "    print('처리중인 폴드: #',i)\n",
        "    val_data = train_data[i * num_val_samples: (i+1) * num_val_samples]\n",
        "    val_labels = train_labels[i * num_val_samples: (i+1)*num_val_samples]\n",
        "\n",
        "    partial_train_data = np.concatenate([train_data[:i*num_val_samples],\n",
        "                                         train_data[(i+1)*num_val_samples:]],\n",
        "                                        axis = 0)\n",
        "    \n",
        "    partial_train_labels = np.concatenate([train_labels[:i*num_val_samples],\n",
        "                                         train_labels[(i+1)*num_val_samples:]],\n",
        "                                        axis = 0)\n",
        "    print(type(partial_train_data))\n",
        "    model = build_model()\n",
        "    model.fit(partial_train_data, partial_train_labels,\n",
        "              epochs = num_epochs, batch_size = 4, validation_data=(val_data,val_labels))\n",
        "    val_loss, val_acc = model.evaluate(val_data,val_labels,verbose = 0)\n",
        "    all_scores.append(val_loss)\n",
        "    all_scores2.append(val_acc)\n",
        "\n",
        "    "
      ],
      "metadata": {
        "colab": {
          "base_uri": "https://localhost:8080/"
        },
        "id": "4RhxZCXRAG9c",
        "outputId": "f45c71ba-d4fd-4d80-ac32-b30df1999578"
      },
      "execution_count": 181,
      "outputs": [
        {
          "output_type": "stream",
          "name": "stdout",
          "text": [
            "처리중인 폴드: # 0\n",
            "<class 'numpy.ndarray'>\n",
            "Epoch 1/10\n",
            "23/23 [==============================] - 0s 6ms/step - loss: 0.5819 - accuracy: 0.9341 - val_loss: 0.4476 - val_accuracy: 0.9667\n",
            "Epoch 2/10\n",
            "23/23 [==============================] - 0s 2ms/step - loss: 0.5151 - accuracy: 0.9670 - val_loss: 0.4029 - val_accuracy: 1.0000\n",
            "Epoch 3/10\n",
            "23/23 [==============================] - 0s 2ms/step - loss: 0.4745 - accuracy: 1.0000 - val_loss: 0.3641 - val_accuracy: 1.0000\n",
            "Epoch 4/10\n",
            "23/23 [==============================] - 0s 2ms/step - loss: 0.4302 - accuracy: 1.0000 - val_loss: 0.3463 - val_accuracy: 1.0000\n",
            "Epoch 5/10\n",
            "23/23 [==============================] - 0s 2ms/step - loss: 0.4050 - accuracy: 1.0000 - val_loss: 0.3178 - val_accuracy: 1.0000\n",
            "Epoch 6/10\n",
            "23/23 [==============================] - 0s 2ms/step - loss: 0.3746 - accuracy: 1.0000 - val_loss: 0.2993 - val_accuracy: 1.0000\n",
            "Epoch 7/10\n",
            "23/23 [==============================] - 0s 2ms/step - loss: 0.3519 - accuracy: 1.0000 - val_loss: 0.2860 - val_accuracy: 1.0000\n",
            "Epoch 8/10\n",
            "23/23 [==============================] - 0s 2ms/step - loss: 0.3356 - accuracy: 1.0000 - val_loss: 0.2674 - val_accuracy: 1.0000\n",
            "Epoch 9/10\n",
            "23/23 [==============================] - 0s 2ms/step - loss: 0.3149 - accuracy: 1.0000 - val_loss: 0.2460 - val_accuracy: 1.0000\n",
            "Epoch 10/10\n",
            "23/23 [==============================] - 0s 2ms/step - loss: 0.2856 - accuracy: 1.0000 - val_loss: 0.2337 - val_accuracy: 1.0000\n",
            "처리중인 폴드: # 1\n",
            "<class 'numpy.ndarray'>\n",
            "Epoch 1/10\n",
            "23/23 [==============================] - 1s 7ms/step - loss: 0.6275 - accuracy: 0.7033 - val_loss: 0.5862 - val_accuracy: 0.7000\n",
            "Epoch 2/10\n",
            "23/23 [==============================] - 0s 3ms/step - loss: 0.5860 - accuracy: 0.7033 - val_loss: 0.5499 - val_accuracy: 0.7000\n",
            "Epoch 3/10\n",
            "23/23 [==============================] - 0s 2ms/step - loss: 0.5492 - accuracy: 0.7033 - val_loss: 0.5152 - val_accuracy: 0.7000\n",
            "Epoch 4/10\n",
            "23/23 [==============================] - 0s 2ms/step - loss: 0.5115 - accuracy: 0.7033 - val_loss: 0.4779 - val_accuracy: 0.7000\n",
            "Epoch 5/10\n",
            "23/23 [==============================] - 0s 2ms/step - loss: 0.4752 - accuracy: 0.7033 - val_loss: 0.4468 - val_accuracy: 0.7000\n",
            "Epoch 6/10\n",
            "23/23 [==============================] - 0s 3ms/step - loss: 0.4448 - accuracy: 0.7033 - val_loss: 0.4190 - val_accuracy: 0.7000\n",
            "Epoch 7/10\n",
            "23/23 [==============================] - 0s 2ms/step - loss: 0.4197 - accuracy: 0.7033 - val_loss: 0.3974 - val_accuracy: 0.7000\n",
            "Epoch 8/10\n",
            "23/23 [==============================] - 0s 2ms/step - loss: 0.3978 - accuracy: 0.7033 - val_loss: 0.3780 - val_accuracy: 0.7000\n",
            "Epoch 9/10\n",
            "23/23 [==============================] - 0s 2ms/step - loss: 0.3783 - accuracy: 0.7033 - val_loss: 0.3599 - val_accuracy: 0.7000\n",
            "Epoch 10/10\n",
            "23/23 [==============================] - 0s 2ms/step - loss: 0.3607 - accuracy: 0.7033 - val_loss: 0.3445 - val_accuracy: 0.7000\n",
            "처리중인 폴드: # 2\n",
            "<class 'numpy.ndarray'>\n",
            "Epoch 1/10\n",
            "23/23 [==============================] - 1s 7ms/step - loss: 0.6715 - accuracy: 0.5165 - val_loss: 0.6927 - val_accuracy: 0.9333\n",
            "Epoch 2/10\n",
            "23/23 [==============================] - 0s 2ms/step - loss: 0.6021 - accuracy: 0.8901 - val_loss: 0.6257 - val_accuracy: 0.9000\n",
            "Epoch 3/10\n",
            "23/23 [==============================] - 0s 2ms/step - loss: 0.5515 - accuracy: 0.9231 - val_loss: 0.5642 - val_accuracy: 1.0000\n",
            "Epoch 4/10\n",
            "23/23 [==============================] - 0s 2ms/step - loss: 0.5027 - accuracy: 0.9890 - val_loss: 0.5065 - val_accuracy: 1.0000\n",
            "Epoch 5/10\n",
            "23/23 [==============================] - 0s 2ms/step - loss: 0.4548 - accuracy: 0.9780 - val_loss: 0.4514 - val_accuracy: 1.0000\n",
            "Epoch 6/10\n",
            "23/23 [==============================] - 0s 3ms/step - loss: 0.4060 - accuracy: 0.9890 - val_loss: 0.3988 - val_accuracy: 1.0000\n",
            "Epoch 7/10\n",
            "23/23 [==============================] - 0s 2ms/step - loss: 0.3595 - accuracy: 0.9890 - val_loss: 0.3500 - val_accuracy: 1.0000\n",
            "Epoch 8/10\n",
            "23/23 [==============================] - 0s 2ms/step - loss: 0.3129 - accuracy: 1.0000 - val_loss: 0.3042 - val_accuracy: 1.0000\n",
            "Epoch 9/10\n",
            "23/23 [==============================] - 0s 2ms/step - loss: 0.2720 - accuracy: 1.0000 - val_loss: 0.2631 - val_accuracy: 1.0000\n",
            "Epoch 10/10\n",
            "23/23 [==============================] - 0s 2ms/step - loss: 0.2330 - accuracy: 1.0000 - val_loss: 0.2265 - val_accuracy: 1.0000\n",
            "처리중인 폴드: # 3\n",
            "<class 'numpy.ndarray'>\n",
            "Epoch 1/10\n",
            "23/23 [==============================] - 0s 7ms/step - loss: 0.6756 - accuracy: 0.5165 - val_loss: 0.7104 - val_accuracy: 0.6000\n",
            "Epoch 2/10\n",
            "23/23 [==============================] - 0s 2ms/step - loss: 0.5747 - accuracy: 0.7363 - val_loss: 0.6426 - val_accuracy: 0.6000\n",
            "Epoch 3/10\n",
            "23/23 [==============================] - 0s 2ms/step - loss: 0.5066 - accuracy: 0.7363 - val_loss: 0.5973 - val_accuracy: 0.6000\n",
            "Epoch 4/10\n",
            "23/23 [==============================] - 0s 2ms/step - loss: 0.4598 - accuracy: 0.7363 - val_loss: 0.5638 - val_accuracy: 0.6000\n",
            "Epoch 5/10\n",
            "23/23 [==============================] - 0s 2ms/step - loss: 0.4249 - accuracy: 0.7363 - val_loss: 0.5354 - val_accuracy: 0.6000\n",
            "Epoch 6/10\n",
            "23/23 [==============================] - 0s 2ms/step - loss: 0.3996 - accuracy: 0.7363 - val_loss: 0.5065 - val_accuracy: 0.6000\n",
            "Epoch 7/10\n",
            "23/23 [==============================] - 0s 2ms/step - loss: 0.3729 - accuracy: 0.7363 - val_loss: 0.4759 - val_accuracy: 0.6333\n",
            "Epoch 8/10\n",
            "23/23 [==============================] - 0s 2ms/step - loss: 0.3474 - accuracy: 0.7473 - val_loss: 0.4465 - val_accuracy: 0.7000\n",
            "Epoch 9/10\n",
            "23/23 [==============================] - 0s 3ms/step - loss: 0.3212 - accuracy: 0.8352 - val_loss: 0.4104 - val_accuracy: 0.9333\n",
            "Epoch 10/10\n",
            "23/23 [==============================] - 0s 3ms/step - loss: 0.2960 - accuracy: 0.9780 - val_loss: 0.3730 - val_accuracy: 1.0000\n"
          ]
        }
      ]
    },
    {
      "cell_type": "code",
      "source": [
        "all_scores\n",
        "print(all_scores2)"
      ],
      "metadata": {
        "colab": {
          "base_uri": "https://localhost:8080/"
        },
        "id": "BpneeuSFEM84",
        "outputId": "16ae9ab3-70b2-44b1-f141-3b7f57f18ef2"
      },
      "execution_count": 170,
      "outputs": [
        {
          "output_type": "stream",
          "name": "stdout",
          "text": [
            "[1.0, 1.0, 1.0, 1.0]\n"
          ]
        }
      ]
    },
    {
      "cell_type": "code",
      "source": [
        "print(all_scores)"
      ],
      "metadata": {
        "colab": {
          "base_uri": "https://localhost:8080/"
        },
        "id": "7ZXSiDS1IG06",
        "outputId": "9e9f5ed4-2ebf-491d-d964-01d764256722"
      },
      "execution_count": 171,
      "outputs": [
        {
          "output_type": "stream",
          "name": "stdout",
          "text": [
            "[0.05632421746850014, 0.08090338110923767, 0.06345489621162415, 0.11045432090759277]\n"
          ]
        }
      ]
    },
    {
      "cell_type": "markdown",
      "source": [
        "np.mean(all_scores2)\n"
      ],
      "metadata": {
        "id": "iTCo0jFvJIYJ"
      }
    },
    {
      "cell_type": "code",
      "source": [
        "predictions = model.predict(test_data)"
      ],
      "metadata": {
        "id": "vZghbQJgKGrk"
      },
      "execution_count": 182,
      "outputs": []
    },
    {
      "cell_type": "code",
      "source": [
        "pred_results = np.zeros((len(predictions),3))\n",
        "for i,sequence in enumerate(predictions):\n",
        "    if sequence[0] >= 0.5:\n",
        "        pred_results[i,0] = 1.\n",
        "    elif sequence[1] >= 0.5:\n",
        "        pred_results[i,1] = 1.\n",
        "    else:\n",
        "        pred_results[i,2] = 1."
      ],
      "metadata": {
        "id": "kI3ZbzUDKZtj"
      },
      "execution_count": 183,
      "outputs": []
    },
    {
      "cell_type": "code",
      "source": [
        "print(pred_results)\n"
      ],
      "metadata": {
        "colab": {
          "base_uri": "https://localhost:8080/"
        },
        "id": "FfiA2mdIM1R8",
        "outputId": "15d956fa-d2c9-497d-bdd1-5d00f92eae77"
      },
      "execution_count": 184,
      "outputs": [
        {
          "output_type": "stream",
          "name": "stdout",
          "text": [
            "[[1. 0. 0.]\n",
            " [0. 0. 1.]\n",
            " [1. 0. 0.]\n",
            " [1. 0. 0.]\n",
            " [0. 0. 1.]\n",
            " [1. 0. 0.]\n",
            " [1. 0. 0.]\n",
            " [0. 0. 1.]\n",
            " [0. 0. 1.]\n",
            " [0. 0. 1.]\n",
            " [1. 0. 0.]\n",
            " [1. 0. 0.]\n",
            " [1. 0. 0.]\n",
            " [0. 0. 1.]\n",
            " [0. 0. 1.]\n",
            " [1. 0. 0.]\n",
            " [1. 0. 0.]\n",
            " [1. 0. 0.]\n",
            " [0. 0. 1.]\n",
            " [0. 0. 1.]\n",
            " [1. 0. 0.]\n",
            " [1. 0. 0.]\n",
            " [0. 0. 1.]\n",
            " [0. 0. 1.]\n",
            " [1. 0. 0.]\n",
            " [0. 0. 1.]\n",
            " [1. 0. 0.]\n",
            " [0. 0. 1.]\n",
            " [0. 0. 1.]]\n"
          ]
        }
      ]
    },
    {
      "cell_type": "code",
      "source": [
        "print(test_labels)"
      ],
      "metadata": {
        "colab": {
          "base_uri": "https://localhost:8080/"
        },
        "id": "ONy-QMxNNGiO",
        "outputId": "f1c519b6-e09d-4ccb-d80d-a3c4242f0e61"
      },
      "execution_count": 180,
      "outputs": [
        {
          "output_type": "stream",
          "name": "stdout",
          "text": [
            "[[0. 0. 0.]\n",
            " [0. 0. 1.]\n",
            " [1. 0. 0.]\n",
            " [0. 0. 0.]\n",
            " [0. 0. 1.]\n",
            " [1. 0. 0.]\n",
            " [1. 0. 0.]\n",
            " [0. 0. 1.]\n",
            " [0. 0. 1.]\n",
            " [0. 0. 1.]\n",
            " [0. 0. 0.]\n",
            " [1. 0. 0.]\n",
            " [0. 0. 0.]\n",
            " [0. 0. 1.]\n",
            " [0. 0. 1.]\n",
            " [1. 0. 0.]\n",
            " [1. 0. 0.]\n",
            " [0. 0. 0.]\n",
            " [0. 0. 1.]\n",
            " [0. 0. 1.]\n",
            " [0. 0. 0.]\n",
            " [1. 0. 0.]\n",
            " [0. 0. 1.]\n",
            " [0. 0. 1.]\n",
            " [0. 0. 0.]\n",
            " [0. 0. 1.]\n",
            " [1. 0. 0.]\n",
            " [0. 0. 1.]\n",
            " [0. 0. 1.]]\n"
          ]
        }
      ]
    }
  ]
}