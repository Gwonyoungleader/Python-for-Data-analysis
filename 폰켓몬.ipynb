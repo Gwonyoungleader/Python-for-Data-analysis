{
  "nbformat": 4,
  "nbformat_minor": 0,
  "metadata": {
    "colab": {
      "provenance": [],
      "authorship_tag": "ABX9TyOak67787a57vM+47hjs3FB",
      "include_colab_link": true
    },
    "kernelspec": {
      "name": "python3",
      "display_name": "Python 3"
    },
    "language_info": {
      "name": "python"
    }
  },
  "cells": [
    {
      "cell_type": "markdown",
      "metadata": {
        "id": "view-in-github",
        "colab_type": "text"
      },
      "source": [
        "<a href=\"https://colab.research.google.com/github/Gwonyoungleader/Python-for-Data-analysis/blob/main/%ED%8F%B0%EC%BC%93%EB%AA%AC.ipynb\" target=\"_parent\"><img src=\"https://colab.research.google.com/assets/colab-badge.svg\" alt=\"Open In Colab\"/></a>"
      ]
    },
    {
      "cell_type": "code",
      "execution_count": null,
      "metadata": {
        "id": "x21EsWaP0SGU"
      },
      "outputs": [],
      "source": [
        "def solution(nums):\n",
        "    answer = 0\n",
        "    \n",
        "    poneketmon_dict = {}\n",
        "    \n",
        "    for number in nums:\n",
        "        if  number not in poneketmon_dict:\n",
        "            poneketmon_dict[number] = 0\n",
        "        poneketmon_dict[number] += 1\n",
        "    if len(poneketmon_dict.keys()) >= len(nums)/2:\n",
        "        return len(nums)/2\n",
        "    else:\n",
        "        return len(poneketmon_dict.keys())"
      ]
    }
  ]
}